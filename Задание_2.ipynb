{
  "nbformat": 4,
  "nbformat_minor": 5,
  "metadata": {
    "kernelspec": {
      "display_name": "Python 3",
      "language": "python",
      "name": "python3"
    },
    "language_info": {
      "codemirror_mode": {
        "name": "ipython",
        "version": 3
      },
      "file_extension": ".py",
      "mimetype": "text/x-python",
      "name": "python",
      "nbconvert_exporter": "python",
      "pygments_lexer": "ipython3",
      "version": "3.8.5"
    },
    "colab": {
      "name": "Задание_2.ipynb",
      "provenance": [],
      "collapsed_sections": [],
      "include_colab_link": true
    }
  },
  "cells": [
    {
      "cell_type": "markdown",
      "metadata": {
        "id": "view-in-github",
        "colab_type": "text"
      },
      "source": [
        "<a href=\"https://colab.research.google.com/github/MitPitt/msu-nn-special-course/blob/main/%D0%97%D0%B0%D0%B4%D0%B0%D0%BD%D0%B8%D0%B5_2.ipynb\" target=\"_parent\"><img src=\"https://colab.research.google.com/assets/colab-badge.svg\" alt=\"Open In Colab\"/></a>"
      ]
    },
    {
      "cell_type": "markdown",
      "metadata": {
        "id": "cpCn0xakwyJh"
      },
      "source": [
        "Требуется обучить модель на основе SVM для распознавания рукописных цифр из набора MNIST. \n",
        "\n",
        "Набор данных MNIST можно загрузить из пакета keras.  \n",
        "\n",
        "В качестве модели применяется LinearSVC. В качестве вектора признаков можно взять линеаризованное изображение, значения элементов от 0 (черный) до 1 (белый). \n",
        "\n",
        "Результатом второго задания является записная книжка Python с подготовкой данных, процессом обучения, ручной проверкой качества распознавания на нескольких образцах и расчётом confusion matrix.   "
      ],
      "id": "cpCn0xakwyJh"
    },
    {
      "cell_type": "markdown",
      "metadata": {
        "id": "UjC2ILsw_4PF"
      },
      "source": [
        "## Загрузка данных"
      ],
      "id": "UjC2ILsw_4PF"
    },
    {
      "cell_type": "code",
      "metadata": {
        "id": "unable-mexican"
      },
      "source": [
        "import keras"
      ],
      "id": "unable-mexican",
      "execution_count": 1,
      "outputs": []
    },
    {
      "cell_type": "markdown",
      "metadata": {
        "id": "rubber-stewart"
      },
      "source": [
        "Массивы X содержат grayscale изображения цифр, массивы Y - метки, т.е. значения цифр."
      ],
      "id": "rubber-stewart"
    },
    {
      "cell_type": "code",
      "metadata": {
        "colab": {
          "base_uri": "https://localhost:8080/"
        },
        "id": "headed-pharmacy",
        "outputId": "b9b509ad-eb92-4b0a-c47a-85f88153b758"
      },
      "source": [
        "from keras.datasets import mnist\n",
        "(train_X, train_y), (test_X, test_y) = mnist.load_data()"
      ],
      "id": "headed-pharmacy",
      "execution_count": 2,
      "outputs": [
        {
          "output_type": "stream",
          "text": [
            "Downloading data from https://storage.googleapis.com/tensorflow/tf-keras-datasets/mnist.npz\n",
            "11493376/11490434 [==============================] - 0s 0us/step\n"
          ],
          "name": "stdout"
        }
      ]
    },
    {
      "cell_type": "markdown",
      "metadata": {
        "id": "moral-steal"
      },
      "source": [
        "Размер каждого изображения 28x28, в массиве для обучения 60000 элементов"
      ],
      "id": "moral-steal"
    },
    {
      "cell_type": "code",
      "metadata": {
        "colab": {
          "base_uri": "https://localhost:8080/"
        },
        "id": "developmental-bachelor",
        "outputId": "76019f84-2028-435f-b226-9438b5ddd9ca"
      },
      "source": [
        "train_X.shape"
      ],
      "id": "developmental-bachelor",
      "execution_count": 3,
      "outputs": [
        {
          "output_type": "execute_result",
          "data": {
            "text/plain": [
              "(60000, 28, 28)"
            ]
          },
          "metadata": {
            "tags": []
          },
          "execution_count": 3
        }
      ]
    },
    {
      "cell_type": "markdown",
      "metadata": {
        "id": "attended-month"
      },
      "source": [
        "Отображаем 6-й элемент для обучения"
      ],
      "id": "attended-month"
    },
    {
      "cell_type": "code",
      "metadata": {
        "colab": {
          "base_uri": "https://localhost:8080/",
          "height": 265
        },
        "id": "vocational-bottom",
        "outputId": "5ecdb112-2e41-4a43-a093-2debd06238d0"
      },
      "source": [
        "from matplotlib import pyplot\n",
        "pyplot.figure(2, figsize=(4, 4))\n",
        "pyplot.imshow(train_X[5], cmap=pyplot.get_cmap('gray'))\n",
        "pyplot.show()"
      ],
      "id": "vocational-bottom",
      "execution_count": 4,
      "outputs": [
        {
          "output_type": "display_data",
          "data": {
            "image/png": "[encoded data removed]",
            "text/plain": [
              "<Figure size 288x288 with 1 Axes>"
            ]
          },
          "metadata": {
            "tags": [],
            "needs_background": "light"
          }
        }
      ]
    },
    {
      "cell_type": "markdown",
      "metadata": {
        "id": "offshore-congress"
      },
      "source": [
        "Значение метки (цифра) для 6-го элемента "
      ],
      "id": "offshore-congress"
    },
    {
      "cell_type": "code",
      "metadata": {
        "colab": {
          "base_uri": "https://localhost:8080/"
        },
        "id": "frozen-lighter",
        "outputId": "20453f56-9a2a-4f00-95ef-384f1715d27f"
      },
      "source": [
        "train_y[5]"
      ],
      "id": "frozen-lighter",
      "execution_count": 5,
      "outputs": [
        {
          "output_type": "execute_result",
          "data": {
            "text/plain": [
              "2"
            ]
          },
          "metadata": {
            "tags": []
          },
          "execution_count": 5
        }
      ]
    },
    {
      "cell_type": "markdown",
      "metadata": {
        "id": "TJGg__44_-BY"
      },
      "source": [
        "## Обучение модели"
      ],
      "id": "TJGg__44_-BY"
    },
    {
      "cell_type": "code",
      "metadata": {
        "id": "f2vlRKbE9XTI"
      },
      "source": [
        "from sklearn.svm import LinearSVC\n",
        "from sklearn.metrics import confusion_matrix\n",
        "from sklearn.metrics import accuracy_score"
      ],
      "id": "f2vlRKbE9XTI",
      "execution_count": 6,
      "outputs": []
    },
    {
      "cell_type": "code",
      "metadata": {
        "id": "pzbHPjAC-qg3"
      },
      "source": [
        "def fit(X, y, clf):\n",
        "    X = X.reshape(-1,784) / 255\n",
        "    clf.fit(X, y)\n",
        "\n",
        "def predict(X, clf):\n",
        "    X = X.reshape(-1,784) / 255\n",
        "    return clf.predict(X)\n",
        "\n",
        "def draw_and_predict(X, y, clf):\n",
        "    pyplot.figure(2, figsize=(4, 4))\n",
        "    pyplot.imshow(X, cmap=pyplot.get_cmap('gray'))\n",
        "    pyplot.show()\n",
        "    print('true: {}, predicted: {}'.format(y, predict(X, clf)))"
      ],
      "id": "pzbHPjAC-qg3",
      "execution_count": 46,
      "outputs": []
    },
    {
      "cell_type": "code",
      "metadata": {
        "colab": {
          "base_uri": "https://localhost:8080/"
        },
        "id": "intellectual-length",
        "outputId": "a987a87c-9e84-4e26-de2c-cd06bd5bd81a"
      },
      "source": [
        "classifier = LinearSVC()\n",
        "fit(train_X, train_y, classifier)"
      ],
      "id": "intellectual-length",
      "execution_count": 32,
      "outputs": [
        {
          "output_type": "stream",
          "text": [
            "/usr/local/lib/python3.7/dist-packages/sklearn/svm/_base.py:947: ConvergenceWarning: Liblinear failed to converge, increase the number of iterations.\n",
            "  \"the number of iterations.\", ConvergenceWarning)\n"
          ],
          "name": "stderr"
        }
      ]
    },
    {
      "cell_type": "code",
      "metadata": {
        "colab": {
          "base_uri": "https://localhost:8080/"
        },
        "id": "uZRtZUM99r5I",
        "outputId": "82564038-872f-40ce-c220-e537528d1dca"
      },
      "source": [
        "pred_y_train = predict(train_X, classifier)\n",
        "\n",
        "confusion_matrix(train_y, pred_y_train, labels=range(0,10))"
      ],
      "id": "uZRtZUM99r5I",
      "execution_count": 55,
      "outputs": [
        {
          "output_type": "execute_result",
          "data": {
            "text/plain": [
              "array([[5800,    1,   13,    9,    9,   18,   26,    4,   36,    7],\n",
              "       [   1, 6602,   30,   11,    7,   23,    2,   11,   47,    8],\n",
              "       [  39,   45, 5419,   84,   57,   26,   57,   71,  141,   19],\n",
              "       [  20,   26,  155, 5493,   11,  172,   20,   54,  118,   62],\n",
              "       [   9,   23,   30,    7, 5484,   15,   30,   14,   53,  177],\n",
              "       [  53,   23,   40,  163,   61, 4786,   96,   17,  121,   61],\n",
              "       [  30,   12,   29,    3,   26,   77, 5712,    2,   24,    3],\n",
              "       [  12,   21,   56,   13,   52,   10,    6, 5907,   17,  171],\n",
              "       [  47,  131,   74,  147,   44,  164,   49,   27, 5077,   91],\n",
              "       [  25,   19,   28,  105,  182,   45,    2,  195,   48, 5300]])"
            ]
          },
          "metadata": {
            "tags": []
          },
          "execution_count": 55
        }
      ]
    },
    {
      "cell_type": "markdown",
      "metadata": {
        "id": "oVsJ9VkdEZ0t"
      },
      "source": [
        "## Проверим на тестовом подмножестве"
      ],
      "id": "oVsJ9VkdEZ0t"
    },
    {
      "cell_type": "code",
      "metadata": {
        "colab": {
          "base_uri": "https://localhost:8080/",
          "height": 1000
        },
        "id": "IQiwqWCgEf3j",
        "outputId": "4c28be31-42fb-4883-ab7d-167f72853b73"
      },
      "source": [
        "for i in range(0,10):\n",
        "    draw_and_predict(test_X[i], test_y[i], classifier)"
      ],
      "id": "IQiwqWCgEf3j",
      "execution_count": 52,
      "outputs": [
        {
          "output_type": "display_data",
          "data": {
            "image/png": "[encoded data removed]",
            "text/plain": [
              "<Figure size 288x288 with 1 Axes>"
            ]
          },
          "metadata": {
            "tags": [],
            "needs_background": "light"
          }
        },
        {
          "output_type": "stream",
          "text": [
            "true: 7, predicted: [7]\n"
          ],
          "name": "stdout"
        },
        {
          "output_type": "display_data",
          "data": {
            "image/png": "[encoded data removed]",
            "text/plain": [
              "<Figure size 288x288 with 1 Axes>"
            ]
          },
          "metadata": {
            "tags": [],
            "needs_background": "light"
          }
        },
        {
          "output_type": "stream",
          "text": [
            "true: 2, predicted: [2]\n"
          ],
          "name": "stdout"
        },
        {
          "output_type": "display_data",
          "data": {
            "image/png": "[encoded data removed]",
            "text/plain": [
              "<Figure size 288x288 with 1 Axes>"
            ]
          },
          "metadata": {
            "tags": [],
            "needs_background": "light"
          }
        },
        {
          "output_type": "stream",
          "text": [
            "true: 1, predicted: [1]\n"
          ],
          "name": "stdout"
        },
        {
          "output_type": "display_data",
          "data": {
            "image/png": "[encoded data removed]",
            "text/plain": [
              "<Figure size 288x288 with 1 Axes>"
            ]
          },
          "metadata": {
            "tags": [],
            "needs_background": "light"
          }
        },
        {
          "output_type": "stream",
          "text": [
            "true: 0, predicted: [0]\n"
          ],
          "name": "stdout"
        },
        {
          "output_type": "display_data",
          "data": {
            "image/png": "[encoded data removed]",
            "text/plain": [
              "<Figure size 288x288 with 1 Axes>"
            ]
          },
          "metadata": {
            "tags": [],
            "needs_background": "light"
          }
        },
        {
          "output_type": "stream",
          "text": [
            "true: 4, predicted: [4]\n"
          ],
          "name": "stdout"
        },
        {
          "output_type": "display_data",
          "data": {
            "image/png": "[encoded data removed]",
            "text/plain": [
              "<Figure size 288x288 with 1 Axes>"
            ]
          },
          "metadata": {
            "tags": [],
            "needs_background": "light"
          }
        },
        {
          "output_type": "stream",
          "text": [
            "true: 1, predicted: [1]\n"
          ],
          "name": "stdout"
        },
        {
          "output_type": "display_data",
          "data": {
            "image/png": "[encoded data removed]",
            "text/plain": [
              "<Figure size 288x288 with 1 Axes>"
            ]
          },
          "metadata": {
            "tags": [],
            "needs_background": "light"
          }
        },
        {
          "output_type": "stream",
          "text": [
            "true: 4, predicted: [4]\n"
          ],
          "name": "stdout"
        },
        {
          "output_type": "display_data",
          "data": {
            "image/png": "[encoded data removed]",
            "text/plain": [
              "<Figure size 288x288 with 1 Axes>"
            ]
          },
          "metadata": {
            "tags": [],
            "needs_background": "light"
          }
        },
        {
          "output_type": "stream",
          "text": [
            "true: 9, predicted: [9]\n"
          ],
          "name": "stdout"
        },
        {
          "output_type": "display_data",
          "data": {
            "image/png": "[encoded data removed]",
            "text/plain": [
              "<Figure size 288x288 with 1 Axes>"
            ]
          },
          "metadata": {
            "tags": [],
            "needs_background": "light"
          }
        },
        {
          "output_type": "stream",
          "text": [
            "true: 5, predicted: [6]\n"
          ],
          "name": "stdout"
        },
        {
          "output_type": "display_data",
          "data": {
            "image/png": "[encoded data removed]",
            "text/plain": [
              "<Figure size 288x288 with 1 Axes>"
            ]
          },
          "metadata": {
            "tags": [],
            "needs_background": "light"
          }
        },
        {
          "output_type": "stream",
          "text": [
            "true: 9, predicted: [9]\n"
          ],
          "name": "stdout"
        }
      ]
    },
    {
      "cell_type": "markdown",
      "metadata": {
        "id": "8Y9xRl-9GxRn"
      },
      "source": [
        "Посмотрим еще неугаданные цифры:"
      ],
      "id": "8Y9xRl-9GxRn"
    },
    {
      "cell_type": "code",
      "metadata": {
        "colab": {
          "base_uri": "https://localhost:8080/",
          "height": 1000
        },
        "id": "nsc6ZRZ8F2j8",
        "outputId": "7f6304aa-42f3-47c7-d83e-0e506e877b13"
      },
      "source": [
        "i = 0\n",
        "j = 0\n",
        "while j < 10:\n",
        "    if predict(test_X[i], classifier) != test_y[i]:\n",
        "        j += 1\n",
        "        draw_and_predict(test_X[i], test_y[i], classifier)\n",
        "    i += 1"
      ],
      "id": "nsc6ZRZ8F2j8",
      "execution_count": 53,
      "outputs": [
        {
          "output_type": "display_data",
          "data": {
            "image/png": "[encoded data removed]",
            "text/plain": [
              "<Figure size 288x288 with 1 Axes>"
            ]
          },
          "metadata": {
            "tags": [],
            "needs_background": "light"
          }
        },
        {
          "output_type": "stream",
          "text": [
            "true: 5, predicted: [6]\n"
          ],
          "name": "stdout"
        },
        {
          "output_type": "display_data",
          "data": {
            "image/png": "[encoded data removed]",
            "text/plain": [
              "<Figure size 288x288 with 1 Axes>"
            ]
          },
          "metadata": {
            "tags": [],
            "needs_background": "light"
          }
        },
        {
          "output_type": "stream",
          "text": [
            "true: 2, predicted: [3]\n"
          ],
          "name": "stdout"
        },
        {
          "output_type": "display_data",
          "data": {
            "image/png": "[encoded data removed]",
            "text/plain": [
              "<Figure size 288x288 with 1 Axes>"
            ]
          },
          "metadata": {
            "tags": [],
            "needs_background": "light"
          }
        },
        {
          "output_type": "stream",
          "text": [
            "true: 3, predicted: [2]\n"
          ],
          "name": "stdout"
        },
        {
          "output_type": "display_data",
          "data": {
            "image/png": "[encoded data removed]",
            "text/plain": [
              "<Figure size 288x288 with 1 Axes>"
            ]
          },
          "metadata": {
            "tags": [],
            "needs_background": "light"
          }
        },
        {
          "output_type": "stream",
          "text": [
            "true: 6, predicted: [2]\n"
          ],
          "name": "stdout"
        },
        {
          "output_type": "display_data",
          "data": {
            "image/png": "[encoded data removed]",
            "text/plain": [
              "<Figure size 288x288 with 1 Axes>"
            ]
          },
          "metadata": {
            "tags": [],
            "needs_background": "light"
          }
        },
        {
          "output_type": "stream",
          "text": [
            "true: 7, predicted: [4]\n"
          ],
          "name": "stdout"
        },
        {
          "output_type": "display_data",
          "data": {
            "image/png": "[encoded data removed]",
            "text/plain": [
              "<Figure size 288x288 with 1 Axes>"
            ]
          },
          "metadata": {
            "tags": [],
            "needs_background": "light"
          }
        },
        {
          "output_type": "stream",
          "text": [
            "true: 2, predicted: [9]\n"
          ],
          "name": "stdout"
        },
        {
          "output_type": "display_data",
          "data": {
            "image/png": "[encoded data removed]",
            "text/plain": [
              "<Figure size 288x288 with 1 Axes>"
            ]
          },
          "metadata": {
            "tags": [],
            "needs_background": "light"
          }
        },
        {
          "output_type": "stream",
          "text": [
            "true: 9, predicted: [8]\n"
          ],
          "name": "stdout"
        },
        {
          "output_type": "display_data",
          "data": {
            "image/png": "[encoded data removed]",
            "text/plain": [
              "<Figure size 288x288 with 1 Axes>"
            ]
          },
          "metadata": {
            "tags": [],
            "needs_background": "light"
          }
        },
        {
          "output_type": "stream",
          "text": [
            "true: 9, predicted: [3]\n"
          ],
          "name": "stdout"
        },
        {
          "output_type": "display_data",
          "data": {
            "image/png": "[encoded data removed]",
            "text/plain": [
              "<Figure size 288x288 with 1 Axes>"
            ]
          },
          "metadata": {
            "tags": [],
            "needs_background": "light"
          }
        },
        {
          "output_type": "stream",
          "text": [
            "true: 3, predicted: [5]\n"
          ],
          "name": "stdout"
        },
        {
          "output_type": "display_data",
          "data": {
            "image/png": "[encoded data removed]",
            "text/plain": [
              "<Figure size 288x288 with 1 Axes>"
            ]
          },
          "metadata": {
            "tags": [],
            "needs_background": "light"
          }
        },
        {
          "output_type": "stream",
          "text": [
            "true: 5, predicted: [7]\n"
          ],
          "name": "stdout"
        }
      ]
    },
    {
      "cell_type": "markdown",
      "metadata": {
        "id": "k-4GyWxYITMv"
      },
      "source": [
        "Довольно кривые примеры"
      ],
      "id": "k-4GyWxYITMv"
    },
    {
      "cell_type": "code",
      "metadata": {
        "colab": {
          "base_uri": "https://localhost:8080/"
        },
        "id": "sogXrVFQC3d4",
        "outputId": "65d31d41-cf19-44b5-b08d-1da29f117646"
      },
      "source": [
        "pred_y_test = predict(test_X, classifier)\n",
        "\n",
        "confusion_matrix(test_y, pred_y_test, labels=range(0,10))"
      ],
      "id": "sogXrVFQC3d4",
      "execution_count": 54,
      "outputs": [
        {
          "output_type": "execute_result",
          "data": {
            "text/plain": [
              "array([[ 962,    0,    2,    1,    1,    4,    5,    3,    1,    1],\n",
              "       [   0, 1112,    3,    2,    0,    1,    5,    1,   11,    0],\n",
              "       [  11,   11,  914,   18,   10,    4,   13,   12,   36,    3],\n",
              "       [   4,    0,   19,  918,    2,   22,    5,   12,   19,    9],\n",
              "       [   1,    4,    5,    4,  913,    0,    9,    3,    5,   38],\n",
              "       [   9,    2,    0,   39,   12,  769,   17,    7,   29,    8],\n",
              "       [   7,    4,    7,    2,    5,   21,  909,    1,    2,    0],\n",
              "       [   2,    8,   23,    5,    7,    1,    1,  948,    4,   29],\n",
              "       [  11,   13,    8,   21,   14,   31,    8,   13,  843,   12],\n",
              "       [   7,    8,    2,   15,   31,   12,    0,   26,   12,  896]])"
            ]
          },
          "metadata": {
            "tags": []
          },
          "execution_count": 54
        }
      ]
    },
    {
      "cell_type": "markdown",
      "metadata": {
        "id": "8DO3XeT9IaUh"
      },
      "source": [
        "По матрице как трейна, так и теста, видно, например, что единицу сложно с чем-то спутать, а вот пятерка хромает, что логично — у нее есть несколько способов начертания."
      ],
      "id": "8DO3XeT9IaUh"
    },
    {
      "cell_type": "code",
      "metadata": {
        "id": "Ds1SMCWHDnV5"
      },
      "source": [
        ""
      ],
      "id": "Ds1SMCWHDnV5",
      "execution_count": null,
      "outputs": []
    }
  ]
}