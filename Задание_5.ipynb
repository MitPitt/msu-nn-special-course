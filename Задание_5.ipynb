{
  "nbformat": 4,
  "nbformat_minor": 0,
  "metadata": {
    "colab": {
      "name": "Задание_5.ipynb",
      "provenance": [],
      "collapsed_sections": [],
      "authorship_tag": "ABX9TyNCdqKELUrO8MmHs0dFNUYT",
      "include_colab_link": true
    },
    "kernelspec": {
      "name": "python3",
      "display_name": "Python 3"
    },
    "language_info": {
      "name": "python"
    },
    "accelerator": "GPU"
  },
  "cells": [
    {
      "cell_type": "markdown",
      "metadata": {
        "id": "view-in-github",
        "colab_type": "text"
      },
      "source": [
        "<a href=\"https://colab.research.google.com/github/MitPitt/msu-nn-special-course/blob/main/%D0%97%D0%B0%D0%B4%D0%B0%D0%BD%D0%B8%D0%B5_5.ipynb\" target=\"_parent\"><img src=\"https://colab.research.google.com/assets/colab-badge.svg\" alt=\"Open In Colab\"/></a>"
      ]
    },
    {
      "cell_type": "markdown",
      "metadata": {
        "id": "SrOiJZ09Hupt"
      },
      "source": [
        "Требуется реализовать метод обучения Q-learning или Deep Q-learning для любой из сред,  \n",
        "\n",
        "Реализованных в OpenAI Gym (кроме Discrete Lunar Lander). \n",
        "\n",
        "Результатом задания является записная книжка Jupyter Notebook в которой: \n",
        "- Создается выбранная среда OpenAI Gym \n",
        "- Агент обучается методом Q-learning \n",
        "- Визуализируется (средствами OpenAI Gym) поведение обученного агента "
      ]
    },
    {
      "cell_type": "code",
      "metadata": {
        "colab": {
          "base_uri": "https://localhost:8080/"
        },
        "id": "F5WIEFmtYzGi",
        "outputId": "ab88550b-43e4-41ae-f792-d7ad09a660ce"
      },
      "source": [
        "!apt-get install -y xvfb python-opengl > /dev/null 2>&1\n",
        "!pip install gym pyvirtualdisplay > /dev/null 2>&1\n",
        "import pyvirtualdisplay\n",
        "display = pyvirtualdisplay.Display(visible=False, size=(1400, 900))\n",
        "display.start()"
      ],
      "execution_count": 2,
      "outputs": [
        {
          "output_type": "execute_result",
          "data": {
            "text/plain": [
              "<pyvirtualdisplay.display.Display at 0x7f700330b050>"
            ]
          },
          "metadata": {
            "tags": []
          },
          "execution_count": 2
        }
      ]
    },
    {
      "cell_type": "code",
      "metadata": {
        "id": "r46qWQoXgtLA"
      },
      "source": [
        "import gym\n",
        "import matplotlib.pyplot as plt\n",
        "from IPython import display as ipythondisplay"
      ],
      "execution_count": 3,
      "outputs": []
    },
    {
      "cell_type": "code",
      "metadata": {
        "colab": {
          "base_uri": "https://localhost:8080/",
          "height": 269
        },
        "id": "7tCgOyc7gxKz",
        "outputId": "eeb7c858-c18e-4c73-fe28-7bf43db8ff87"
      },
      "source": [
        "env = gym.make(\"CartPole-v1\")\n",
        "\n",
        "env.reset()\n",
        "prev_screen = env.render(mode='rgb_array')\n",
        "plt.imshow(prev_screen)\n",
        "\n",
        "for i in range(50):\n",
        "  action = env.action_space.sample()\n",
        "  obs, reward, done, info = env.step(action)\n",
        "  screen = env.render(mode='rgb_array')\n",
        "  \n",
        "  plt.imshow(screen)\n",
        "  ipythondisplay.clear_output(wait=True)\n",
        "  ipythondisplay.display(plt.gcf())\n",
        "\n",
        "  if done:\n",
        "    break\n",
        "    \n",
        "ipythondisplay.clear_output(wait=True)\n",
        "env.close()"
      ],
      "execution_count": 4,
      "outputs": [
        {
          "output_type": "display_data",
          "data": {
            "image/png": "[encoded data removed]",
            "text/plain": [
              "<Figure size 432x288 with 1 Axes>"
            ]
          },
          "metadata": {
            "tags": [],
            "needs_background": "light"
          }
        }
      ]
    },
    {
      "cell_type": "code",
      "metadata": {
        "id": "QCaGxFCQUK9B"
      },
      "source": [
        "NA = 2\n",
        "NS = 4\n",
        "\n",
        "from keras import Sequential\n",
        "from keras.layers import Dense\n",
        "from keras.optimizers import Adam\n",
        "from keras.activations import relu, linear\n",
        "\n",
        "model = Sequential()\n",
        "model.add(Dense(NS*NS, input_dim=NS, activation=relu))\n",
        "model.add(Dense(NS*NS, activation=relu))\n",
        "model.add(Dense(NA, activation=linear))\n",
        "model.compile(loss='mse', optimizer=Adam(0.001))\n",
        "\n",
        "import numpy as np\n",
        "\n",
        "epsilon = 1.0\n",
        "epsilon_decay = 0.998\n",
        "\n",
        "def choose_action(state):\n",
        "    if np.random.rand() <= epsilon:\n",
        "        return random.randrange(NA)\n",
        "    qs = model.predict(state)\n",
        "    return np.argmax(qs[0])"
      ],
      "execution_count": 5,
      "outputs": []
    },
    {
      "cell_type": "code",
      "metadata": {
        "id": "aCHqgcYvW0Yg"
      },
      "source": [
        "import random\n",
        "from collections import deque\n",
        "\n",
        "memory = deque() # tuples (state, action, reward, next state, done)\n",
        "batch_size = 64\n",
        "\n",
        "gamma = 0.99 # discount factor\n",
        "\n",
        "def update_model():\n",
        "    global epsilon, epsilon_decay \n",
        "    if len(memory) < batch_size:\n",
        "        return\n",
        "    \n",
        "    batch = random.sample(memory, batch_size)\n",
        "    states = np.squeeze(np.array([i[0] for i in batch]))\n",
        "    actions = np.array([i[1] for i in batch])\n",
        "    rewards = np.array([i[2] for i in batch])\n",
        "    next_states = np.squeeze(np.array([i[3] for i in batch]))\n",
        "    dones = np.array([i[4] for i in batch])\n",
        "    \n",
        "    targets = model.predict_on_batch(states)\n",
        "    targets[[i for i in range(len(actions))], [actions]] = rewards + gamma*(np.amax(model.predict_on_batch(next_states), axis=1))*(1-dones)\n",
        "    \n",
        "    model.fit(states, targets, epochs=1, verbose=0)\n",
        "    if epsilon > 0.01:\n",
        "        epsilon *= epsilon_decay"
      ],
      "execution_count": 6,
      "outputs": []
    },
    {
      "cell_type": "code",
      "metadata": {
        "colab": {
          "base_uri": "https://localhost:8080/"
        },
        "id": "KhVG40WgW4kN",
        "outputId": "25b72088-43e9-4f5a-cea7-92f4accabdce"
      },
      "source": [
        "scores = []\n",
        "donescores = []\n",
        "env = gym.make(\"CartPole-v1\")\n",
        "for e in range(400):\n",
        "    state = np.reshape(env.reset(), (1, NS))\n",
        "    score = 0\n",
        "    for i in range(3000):\n",
        "        action = choose_action(state)\n",
        "        #env.render()\n",
        "        next_state, reward, done, _ = env.step(action)\n",
        "        score += reward\n",
        "        next_state = np.reshape(next_state, (1, NS))\n",
        "        memory.append((state, action, reward, next_state, done))\n",
        "        state = next_state\n",
        "        update_model()\n",
        "        if done:\n",
        "            if e%5==0:\n",
        "                print(\"episode {} step {} => score {}\".format(e, i, score))\n",
        "            donescores.append(score)\n",
        "            break\n",
        "        scores.append(score)\n",
        "\n",
        "    if len(donescores)>10 and np.mean(donescores[-10:]) > 200:\n",
        "        break"
      ],
      "execution_count": 7,
      "outputs": [
        {
          "output_type": "stream",
          "text": [
            "episode 0 step 8 => score 9.0\n",
            "episode 5 step 15 => score 16.0\n",
            "episode 10 step 27 => score 28.0\n",
            "episode 15 step 12 => score 13.0\n",
            "episode 20 step 10 => score 11.0\n",
            "episode 25 step 12 => score 13.0\n",
            "episode 30 step 8 => score 9.0\n",
            "episode 35 step 10 => score 11.0\n",
            "episode 40 step 8 => score 9.0\n",
            "episode 45 step 14 => score 15.0\n",
            "episode 50 step 10 => score 11.0\n",
            "episode 55 step 11 => score 12.0\n",
            "episode 60 step 9 => score 10.0\n",
            "episode 65 step 10 => score 11.0\n",
            "episode 70 step 10 => score 11.0\n",
            "episode 75 step 34 => score 35.0\n",
            "episode 80 step 29 => score 30.0\n",
            "episode 85 step 20 => score 21.0\n",
            "episode 90 step 24 => score 25.0\n",
            "episode 95 step 26 => score 27.0\n",
            "episode 100 step 18 => score 19.0\n",
            "episode 105 step 20 => score 21.0\n",
            "episode 110 step 27 => score 28.0\n",
            "episode 115 step 30 => score 31.0\n",
            "episode 120 step 31 => score 32.0\n",
            "episode 125 step 37 => score 38.0\n",
            "episode 130 step 41 => score 42.0\n",
            "episode 135 step 36 => score 37.0\n",
            "episode 140 step 33 => score 34.0\n",
            "episode 145 step 30 => score 31.0\n",
            "episode 150 step 43 => score 44.0\n",
            "episode 155 step 37 => score 38.0\n",
            "episode 160 step 44 => score 45.0\n",
            "episode 165 step 67 => score 68.0\n",
            "episode 170 step 81 => score 82.0\n",
            "episode 175 step 137 => score 138.0\n",
            "episode 180 step 79 => score 80.0\n",
            "episode 185 step 140 => score 141.0\n",
            "episode 190 step 93 => score 94.0\n",
            "episode 195 step 69 => score 70.0\n",
            "episode 200 step 98 => score 99.0\n",
            "episode 205 step 106 => score 107.0\n",
            "episode 210 step 133 => score 134.0\n",
            "episode 215 step 93 => score 94.0\n",
            "episode 220 step 99 => score 100.0\n",
            "episode 225 step 135 => score 136.0\n",
            "episode 230 step 168 => score 169.0\n",
            "episode 235 step 319 => score 320.0\n"
          ],
          "name": "stdout"
        }
      ]
    },
    {
      "cell_type": "code",
      "metadata": {
        "colab": {
          "base_uri": "https://localhost:8080/",
          "height": 283
        },
        "id": "_10IW14ocX2p",
        "outputId": "f18345c8-38bc-4010-b7cf-04e53b6e0d84"
      },
      "source": [
        "plt.plot(donescores)"
      ],
      "execution_count": 8,
      "outputs": [
        {
          "output_type": "execute_result",
          "data": {
            "text/plain": [
              "[<matplotlib.lines.Line2D at 0x7f6f40281590>]"
            ]
          },
          "metadata": {
            "tags": []
          },
          "execution_count": 8
        },
        {
          "output_type": "display_data",
          "data": {
            "image/png": "[encoded data removed]",
            "text/plain": [
              "<Figure size 432x288 with 1 Axes>"
            ]
          },
          "metadata": {
            "tags": [],
            "needs_background": "light"
          }
        }
      ]
    },
    {
      "cell_type": "code",
      "metadata": {
        "colab": {
          "base_uri": "https://localhost:8080/",
          "height": 287
        },
        "id": "UKGoy9Xig0wu",
        "outputId": "6922ee01-90fc-42b4-a442-84cf332fb195"
      },
      "source": [
        "env = gym.make(\"CartPole-v1\")\n",
        "\n",
        "observation = env.reset()\n",
        "observation= np.reshape(observation, (1, NS))\n",
        "prev_screen = env.render(mode='rgb_array')\n",
        "plt.imshow(prev_screen)\n",
        "\n",
        "reward_sum = 0\n",
        "for i in range(3000):\n",
        "  action = choose_action(observation)\n",
        "  observation, reward, done, info = env.step(action)\n",
        "  reward_sum += reward\n",
        "  observation= np.reshape(observation, (1, NS))\n",
        "  screen = env.render(mode='rgb_array')\n",
        "  \n",
        "  plt.imshow(screen)\n",
        "  ipythondisplay.clear_output(wait=True)\n",
        "  ipythondisplay.display(plt.gcf())\n",
        "\n",
        "  if done:\n",
        "    break\n",
        "    \n",
        "ipythondisplay.clear_output(wait=True)\n",
        "env.close()\n",
        "print(reward_sum)"
      ],
      "execution_count": 9,
      "outputs": [
        {
          "output_type": "stream",
          "text": [
            "277.0\n"
          ],
          "name": "stdout"
        },
        {
          "output_type": "display_data",
          "data": {
            "image/png": "[encoded data removed]",
            "text/plain": [
              "<Figure size 432x288 with 1 Axes>"
            ]
          },
          "metadata": {
            "tags": [],
            "needs_background": "light"
          }
        }
      ]
    },
    {
      "cell_type": "code",
      "metadata": {
        "id": "2HvVdClnpslr"
      },
      "source": [
        ""
      ],
      "execution_count": 9,
      "outputs": []
    }
  ]
}