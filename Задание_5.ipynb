{
  "nbformat": 4,
  "nbformat_minor": 0,
  "metadata": {
    "colab": {
      "name": "Задание_5.ipynb",
      "provenance": [],
      "collapsed_sections": [],
      "authorship_tag": "ABX9TyPMmG1f0MpKuq/87R3CNKRB",
      "include_colab_link": true
    },
    "kernelspec": {
      "name": "python3",
      "display_name": "Python 3"
    },
    "language_info": {
      "name": "python"
    },
    "accelerator": "GPU"
  },
  "cells": [
    {
      "cell_type": "markdown",
      "metadata": {
        "id": "view-in-github",
        "colab_type": "text"
      },
      "source": [
        "<a href=\"https://colab.research.google.com/github/MitPitt/msu-nn-special-course/blob/main/%D0%97%D0%B0%D0%B4%D0%B0%D0%BD%D0%B8%D0%B5_5.ipynb\" target=\"_parent\"><img src=\"https://colab.research.google.com/assets/colab-badge.svg\" alt=\"Open In Colab\"/></a>"
      ]
    },
    {
      "cell_type": "markdown",
      "metadata": {
        "id": "SrOiJZ09Hupt"
      },
      "source": [
        "Требуется реализовать метод обучения Q-learning или Deep Q-learning для любой из сред,  \n",
        "\n",
        "Реализованных в OpenAI Gym (кроме Discrete Lunar Lander). \n",
        "\n",
        "Результатом задания является записная книжка Jupyter Notebook в которой: \n",
        "- Создается выбранная среда OpenAI Gym \n",
        "- Агент обучается методом Q-learning \n",
        "- Визуализируется (средствами OpenAI Gym) поведение обученного агента "
      ]
    },
    {
      "cell_type": "code",
      "metadata": {
        "colab": {
          "base_uri": "https://localhost:8080/"
        },
        "id": "F5WIEFmtYzGi",
        "outputId": "3688b902-fee1-47df-8685-7b553e057a30"
      },
      "source": [
        "!apt-get install -y xvfb python-opengl > /dev/null 2>&1\n",
        "!pip install gym pyvirtualdisplay > /dev/null 2>&1\n",
        "import pyvirtualdisplay\n",
        "display = pyvirtualdisplay.Display(visible=False, size=(1400, 900))\n",
        "display.start()"
      ],
      "execution_count": 1,
      "outputs": [
        {
          "output_type": "execute_result",
          "data": {
            "text/plain": [
              "<pyvirtualdisplay.display.Display at 0x7fb5b1ac7790>"
            ]
          },
          "metadata": {
            "tags": []
          },
          "execution_count": 1
        }
      ]
    },
    {
      "cell_type": "code",
      "metadata": {
        "id": "r46qWQoXgtLA"
      },
      "source": [
        "import gym\n",
        "import matplotlib.pyplot as plt\n",
        "from IPython import display as ipythondisplay"
      ],
      "execution_count": 2,
      "outputs": []
    },
    {
      "cell_type": "code",
      "metadata": {
        "colab": {
          "base_uri": "https://localhost:8080/",
          "height": 269
        },
        "id": "7tCgOyc7gxKz",
        "outputId": "d7dcc9d4-aea2-4cdc-89c1-5f6816a00841"
      },
      "source": [
        "env = gym.make(\"CartPole-v1\")\n",
        "\n",
        "env.reset()\n",
        "prev_screen = env.render(mode='rgb_array')\n",
        "plt.imshow(prev_screen)\n",
        "\n",
        "for i in range(50):\n",
        "  action = env.action_space.sample()\n",
        "  obs, reward, done, info = env.step(action)\n",
        "  screen = env.render(mode='rgb_array')\n",
        "  \n",
        "  plt.imshow(screen)\n",
        "  ipythondisplay.clear_output(wait=True)\n",
        "  ipythondisplay.display(plt.gcf())\n",
        "\n",
        "  if done:\n",
        "    break\n",
        "    \n",
        "ipythondisplay.clear_output(wait=True)\n",
        "env.close()"
      ],
      "execution_count": 3,
      "outputs": [
        {
          "output_type": "display_data",
          "data": {
            "image/png": "[encoded data removed]",
            "text/plain": [
              "<Figure size 432x288 with 1 Axes>"
            ]
          },
          "metadata": {
            "tags": [],
            "needs_background": "light"
          }
        }
      ]
    },
    {
      "cell_type": "code",
      "metadata": {
        "id": "QCaGxFCQUK9B"
      },
      "source": [
        "NA = 2\n",
        "NS = 4\n",
        "\n",
        "from keras import Sequential\n",
        "from keras.layers import Dense\n",
        "from keras.optimizers import Adam\n",
        "from keras.activations import relu, linear\n",
        "\n",
        "model = Sequential()\n",
        "model.add(Dense(NS*NS, input_dim=NS, activation=relu))\n",
        "model.add(Dense(NS*NS, activation=relu))\n",
        "model.add(Dense(NA, activation=linear))\n",
        "model.compile(loss='mse', optimizer=Adam(0.001))\n",
        "\n",
        "import numpy as np\n",
        "\n",
        "epsilon = 1.0\n",
        "epsilon_decay = 0.998\n",
        "\n",
        "def choose_action(state):\n",
        "    if np.random.rand() <= epsilon:\n",
        "        return random.randrange(NA)\n",
        "    qs = model.predict(state)\n",
        "    return np.argmax(qs[0])"
      ],
      "execution_count": 4,
      "outputs": []
    },
    {
      "cell_type": "code",
      "metadata": {
        "id": "aCHqgcYvW0Yg"
      },
      "source": [
        "import random\n",
        "from collections import deque\n",
        "\n",
        "memory = deque() # tuples (state, action, reward, next state, done)\n",
        "batch_size = 64\n",
        "\n",
        "gamma = 0.99 # discount factor\n",
        "\n",
        "def update_model():\n",
        "    global epsilon, epsilon_decay \n",
        "    if len(memory) < batch_size:\n",
        "        return\n",
        "    \n",
        "    batch = random.sample(memory, batch_size)\n",
        "    states = np.squeeze(np.array([i[0] for i in batch]))\n",
        "    actions = np.array([i[1] for i in batch])\n",
        "    rewards = np.array([i[2] for i in batch])\n",
        "    next_states = np.squeeze(np.array([i[3] for i in batch]))\n",
        "    dones = np.array([i[4] for i in batch])\n",
        "    \n",
        "    targets = model.predict_on_batch(states)\n",
        "    targets[[i for i in range(len(actions))], [actions]] = rewards + gamma*(np.amax(model.predict_on_batch(next_states), axis=1))*(1-dones)\n",
        "    \n",
        "    model.fit(states, targets, epochs=1, verbose=0)\n",
        "    if epsilon > 0.01:\n",
        "        epsilon *= epsilon_decay"
      ],
      "execution_count": 5,
      "outputs": []
    },
    {
      "cell_type": "code",
      "metadata": {
        "colab": {
          "base_uri": "https://localhost:8080/"
        },
        "id": "KhVG40WgW4kN",
        "outputId": "e9762fe4-f2e5-4eae-c383-b3dc013e1421"
      },
      "source": [
        "scores = []\n",
        "donescores = []\n",
        "env = gym.make(\"CartPole-v1\")\n",
        "for e in range(400):\n",
        "    state = np.reshape(env.reset(), (1, NS))\n",
        "    score = 0\n",
        "    for i in range(3000):\n",
        "        action = choose_action(state)\n",
        "        #env.render()\n",
        "        next_state, reward, done, _ = env.step(action)\n",
        "        score += reward\n",
        "        next_state = np.reshape(next_state, (1, NS))\n",
        "        memory.append((state, action, reward, next_state, done))\n",
        "        state = next_state\n",
        "        update_model()\n",
        "        if done:\n",
        "            if e%5==0:\n",
        "                print(\"episode {} step {} => score {}\".format(e, i, score))\n",
        "            donescores.append(score)\n",
        "            break\n",
        "        scores.append(score)\n",
        "\n",
        "    if np.mean(scores[-100:]) > 150:\n",
        "        print(\"converged!\")\n",
        "        break"
      ],
      "execution_count": 6,
      "outputs": [
        {
          "output_type": "stream",
          "text": [
            "episode 0 step 83 => score 84.0\n",
            "episode 5 step 14 => score 15.0\n",
            "episode 10 step 9 => score 10.0\n",
            "episode 15 step 9 => score 10.0\n",
            "episode 20 step 20 => score 21.0\n",
            "episode 25 step 10 => score 11.0\n",
            "episode 30 step 71 => score 72.0\n",
            "episode 35 step 177 => score 178.0\n",
            "episode 40 step 73 => score 74.0\n",
            "episode 45 step 119 => score 120.0\n",
            "episode 50 step 156 => score 157.0\n",
            "episode 55 step 91 => score 92.0\n",
            "episode 60 step 125 => score 126.0\n",
            "episode 65 step 105 => score 106.0\n",
            "episode 70 step 102 => score 103.0\n",
            "episode 75 step 116 => score 117.0\n",
            "converged!\n"
          ],
          "name": "stdout"
        }
      ]
    },
    {
      "cell_type": "code",
      "metadata": {
        "colab": {
          "base_uri": "https://localhost:8080/",
          "height": 283
        },
        "id": "_10IW14ocX2p",
        "outputId": "464ada22-4f77-45fe-d26f-2d73f15f6ce6"
      },
      "source": [
        "plt.plot(donescores)"
      ],
      "execution_count": 7,
      "outputs": [
        {
          "output_type": "execute_result",
          "data": {
            "text/plain": [
              "[<matplotlib.lines.Line2D at 0x7fb4f662b650>]"
            ]
          },
          "metadata": {
            "tags": []
          },
          "execution_count": 7
        },
        {
          "output_type": "display_data",
          "data": {
            "image/png": "[encoded data removed]",
            "text/plain": [
              "<Figure size 432x288 with 1 Axes>"
            ]
          },
          "metadata": {
            "tags": [],
            "needs_background": "light"
          }
        }
      ]
    },
    {
      "cell_type": "code",
      "metadata": {
        "colab": {
          "base_uri": "https://localhost:8080/",
          "height": 287
        },
        "id": "UKGoy9Xig0wu",
        "outputId": "8d5f8fd3-9ea8-4aee-cd38-ba3bbd1bb820"
      },
      "source": [
        "env = gym.make(\"CartPole-v1\")\n",
        "\n",
        "observation = env.reset()\n",
        "observation= np.reshape(observation, (1, NS))\n",
        "prev_screen = env.render(mode='rgb_array')\n",
        "plt.imshow(prev_screen)\n",
        "\n",
        "reward_sum = 0\n",
        "for i in range(3000):\n",
        "  action = choose_action(observation)\n",
        "  observation, reward, done, info = env.step(action)\n",
        "  reward_sum += reward\n",
        "  observation= np.reshape(observation, (1, NS))\n",
        "  screen = env.render(mode='rgb_array')\n",
        "  \n",
        "  plt.imshow(screen)\n",
        "  ipythondisplay.clear_output(wait=True)\n",
        "  ipythondisplay.display(plt.gcf())\n",
        "\n",
        "  if done:\n",
        "    break\n",
        "    \n",
        "ipythondisplay.clear_output(wait=True)\n",
        "env.close()\n",
        "print(reward_sum)"
      ],
      "execution_count": 12,
      "outputs": [
        {
          "output_type": "stream",
          "text": [
            "145.0\n"
          ],
          "name": "stdout"
        },
        {
          "output_type": "display_data",
          "data": {
            "image/png": "[encoded data removed]",
            "text/plain": [
              "<Figure size 432x288 with 1 Axes>"
            ]
          },
          "metadata": {
            "tags": [],
            "needs_background": "light"
          }
        }
      ]
    },
    {
      "cell_type": "code",
      "metadata": {
        "id": "2HvVdClnpslr"
      },
      "source": [
        ""
      ],
      "execution_count": null,
      "outputs": []
    }
  ]
}